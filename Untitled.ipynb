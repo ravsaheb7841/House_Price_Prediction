{
 "cells": [
  {
   "cell_type": "code",
   "execution_count": 3,
   "id": "0a0f3307-2b3a-40a0-9251-eaa70cf7f7f6",
   "metadata": {},
   "outputs": [
    {
     "name": "stdout",
     "output_type": "stream",
     "text": [
      "Mean Squared Error (MSE): 48738831302.643234\n",
      "Mean Absolute Error (MAE): 126283.10197475986\n",
      "R-squared (R²): 0.670568767651011\n",
      "Predicted Price: 313000.89671919256\n"
     ]
    }
   ],
   "source": [
    "import pandas as pd\n",
    "from sklearn.model_selection import train_test_split\n",
    "from sklearn.preprocessing import OneHotEncoder, StandardScaler\n",
    "from sklearn.compose import ColumnTransformer\n",
    "from sklearn.pipeline import Pipeline\n",
    "from sklearn.linear_model import LinearRegression\n",
    "from sklearn.metrics import mean_squared_error, mean_absolute_error, r2_score\n",
    "\n",
    "# Load the dataset\n",
    "data = pd.read_csv(\"data.csv\")\n",
    "\n",
    "# Separate features and target variable\n",
    "X = data.drop(columns=['price'])\n",
    "y = data['price']\n",
    "\n",
    "# Define preprocessing for numerical and categorical features\n",
    "numerical_features = ['bedrooms', 'bathrooms', 'sqft_living', 'sqft_lot', 'floors', 'waterfront', 'view', \n",
    "                      'condition', 'sqft_above', 'sqft_basement', 'yr_built', 'yr_renovated']\n",
    "categorical_features = ['street', 'city', 'statezip', 'country']\n",
    "\n",
    "# Preprocessing pipelines\n",
    "numerical_transformer = StandardScaler()\n",
    "categorical_transformer = OneHotEncoder(handle_unknown='ignore')\n",
    "\n",
    "# Combine preprocessing steps\n",
    "preprocessor = ColumnTransformer(\n",
    "    transformers=[\n",
    "        ('num', numerical_transformer, numerical_features),\n",
    "        ('cat', categorical_transformer, categorical_features)\n",
    "    ])\n",
    "\n",
    "# Define the model pipeline\n",
    "model = Pipeline(steps=[\n",
    "    ('preprocessor', preprocessor),\n",
    "    ('regressor', LinearRegression())\n",
    "])\n",
    "\n",
    "# Split the data\n",
    "X_train, X_test, y_train, y_test = train_test_split(X, y, test_size=0.2, random_state=0)\n",
    "\n",
    "# Train the model\n",
    "model.fit(X_train, y_train)\n",
    "\n",
    "# Predict and evaluate the model\n",
    "y_pred = model.predict(X_test)\n",
    "mse = mean_squared_error(y_test, y_pred)\n",
    "mae = mean_absolute_error(y_test, y_pred)\n",
    "r2 = r2_score(y_test, y_pred)\n",
    "\n",
    "# Output performance\n",
    "print(\"Mean Squared Error (MSE):\", mse)\n",
    "print(\"Mean Absolute Error (MAE):\", mae)\n",
    "print(\"R-squared (R²):\", r2)\n",
    "\n",
    "def predict_price(bedrooms, bathrooms, sqft_living, sqft_lot, floors, waterfront, view, condition, sqft_above, \n",
    "                  sqft_basement, yr_built, yr_renovated, street, city, statezip, country):\n",
    "    # Create a DataFrame for the input data\n",
    "    input_data = pd.DataFrame([{\n",
    "        'bedrooms': bedrooms,\n",
    "        'bathrooms': bathrooms,\n",
    "        'sqft_living': sqft_living,\n",
    "        'sqft_lot': sqft_lot,\n",
    "        'floors': floors,\n",
    "        'waterfront': waterfront,\n",
    "        'view': view,\n",
    "        'condition': condition,\n",
    "        'sqft_above': sqft_above,\n",
    "        'sqft_basement': sqft_basement,\n",
    "        'yr_built': yr_built,\n",
    "        'yr_renovated': yr_renovated,\n",
    "        'street': street,\n",
    "        'city': city,\n",
    "        'statezip': statezip,\n",
    "        'country': country\n",
    "    }])\n",
    "\n",
    "    # Predict and return the price\n",
    "    predicted_price = model.predict(input_data)\n",
    "    return predicted_price[0]\n",
    "\n",
    "# Example usage of the function\n",
    "predicted_price = predict_price(\n",
    "    bedrooms=3, bathrooms=1.5, sqft_living=1340, sqft_lot=7912, floors=1.5, waterfront=0, view=0, condition=3,\n",
    "    sqft_above=1340, sqft_basement=0, yr_built=1955, yr_renovated=2005, \n",
    "    street=\"18810 Densmore Ave N\", city=\"Shoreline\", statezip=\"WA 98133\", country=\"USA\"\n",
    ")\n",
    "\n",
    "print(\"Predicted Price:\", predicted_price)\n"
   ]
  },
  {
   "cell_type": "code",
   "execution_count": 1,
   "id": "1f291347-5743-4824-82d7-96ef91ece74d",
   "metadata": {},
   "outputs": [],
   "source": [
    "import pickle"
   ]
  },
  {
   "cell_type": "code",
   "execution_count": 5,
   "id": "f835eb44-a4c7-4317-81f2-f8ba6ad9ac99",
   "metadata": {},
   "outputs": [],
   "source": [
    "# Save the trained model to a pickle file\n",
    "with open('house_price_model.pkl', 'wb') as model_file:\n",
    "    pickle.dump(model, model_file)\n"
   ]
  }
 ],
 "metadata": {
  "kernelspec": {
   "display_name": "Python 3 (ipykernel)",
   "language": "python",
   "name": "python3"
  },
  "language_info": {
   "codemirror_mode": {
    "name": "ipython",
    "version": 3
   },
   "file_extension": ".py",
   "mimetype": "text/x-python",
   "name": "python",
   "nbconvert_exporter": "python",
   "pygments_lexer": "ipython3",
   "version": "3.12.4"
  }
 },
 "nbformat": 4,
 "nbformat_minor": 5
}
